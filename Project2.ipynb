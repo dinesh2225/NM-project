{
  "nbformat": 4,
  "nbformat_minor": 0,
  "metadata": {
    "colab": {
      "provenance": []
    },
    "kernelspec": {
      "name": "python3",
      "display_name": "Python 3"
    },
    "language_info": {
      "name": "python"
    }
  },
  "cells": [
    {
      "cell_type": "code",
      "execution_count": null,
      "metadata": {
        "colab": {
          "base_uri": "https://localhost:8080/"
        },
        "id": "QcA6QFoEm-vK",
        "outputId": "71cff32c-c94a-4b91-8e5a-bf576d2ab2bb"
      },
      "outputs": [
        {
          "output_type": "stream",
          "name": "stdout",
          "text": [
            "       Name   Age  Marks  Attendance Passed\n",
            "0     Alice  20.0   85.0        90.0    Yes\n",
            "1       Bob  21.0    NaN        80.0     No\n",
            "2   Charlie   NaN   78.0         NaN    Yes\n",
            "3     David  22.0   90.0        85.0    Yes\n",
            "4       Eve  20.0   88.0        95.0     No\n",
            "5     Frank   NaN   76.0        70.0    Yes\n",
            "6     Grace  23.0    NaN        88.0     No\n",
            "7      Hank  21.0   80.0         NaN    Yes\n",
            "8       Ivy  24.0   92.0        92.0    Yes\n",
            "9      Jack   NaN   79.0        85.0     No\n",
            "10    Kelly  22.0    NaN        78.0    Yes\n",
            "11      Leo  23.0   87.0         NaN    Yes\n",
            "12     Mona  21.0   83.0        80.0     No\n",
            "13     Nina   NaN   77.0        89.0    Yes\n",
            "14    Oscar  25.0    NaN        91.0     No\n",
            "15     Paul  22.0   81.0         NaN    Yes\n"
          ]
        }
      ],
      "source": [
        "import pandas as pd\n",
        "df = pd.read_csv(\"students_dataset.csv\") # Replace with your file name\n",
        "print(df)"
      ]
    },
    {
      "cell_type": "code",
      "source": [
        "print(df.isnull().sum())"
      ],
      "metadata": {
        "colab": {
          "base_uri": "https://localhost:8080/"
        },
        "id": "0H14vx-Ar3Df",
        "outputId": "f74b1b3e-90a0-4135-f27c-c2e40e50ca84"
      },
      "execution_count": null,
      "outputs": [
        {
          "output_type": "stream",
          "name": "stdout",
          "text": [
            "Name          0\n",
            "Age           4\n",
            "Marks         4\n",
            "Attendance    4\n",
            "Passed        0\n",
            "dtype: int64\n"
          ]
        }
      ]
    },
    {
      "cell_type": "code",
      "source": [
        "df_cleaned = df.dropna() # Removes rows with missing values\n",
        "print(df_cleaned)"
      ],
      "metadata": {
        "colab": {
          "base_uri": "https://localhost:8080/"
        },
        "id": "VlpEaVyCr6tF",
        "outputId": "24b90b37-9eb2-45f5-d604-35385fd36aac"
      },
      "execution_count": null,
      "outputs": [
        {
          "output_type": "stream",
          "name": "stdout",
          "text": [
            "     Name   Age  Marks  Attendance Passed\n",
            "0   Alice  20.0   85.0        90.0    Yes\n",
            "3   David  22.0   90.0        85.0    Yes\n",
            "4     Eve  20.0   88.0        95.0     No\n",
            "8     Ivy  24.0   92.0        92.0    Yes\n",
            "12   Mona  21.0   83.0        80.0     No\n"
          ]
        }
      ]
    },
    {
      "cell_type": "code",
      "source": [
        "df[\"Age\"].fillna(df[\"Age\"].mean(), inplace=True)\n",
        "df[\"Marks\"].fillna(df[\"Marks\"].median(), inplace=True)\n",
        "df[\"Attendance\"].fillna(df[\"Attendance\"].mean(),\n",
        "inplace=True)\n",
        "print(df)"
      ],
      "metadata": {
        "colab": {
          "base_uri": "https://localhost:8080/"
        },
        "id": "Cz53WVmFsZEG",
        "outputId": "7693846f-a0b1-4cfd-fb04-3a44a27da1c0"
      },
      "execution_count": null,
      "outputs": [
        {
          "output_type": "stream",
          "name": "stdout",
          "text": [
            "       Name   Age  Marks  Attendance Passed\n",
            "0     Alice  20.0   85.0       90.00    Yes\n",
            "1       Bob  21.0   82.0       80.00     No\n",
            "2   Charlie  22.0   78.0       85.25    Yes\n",
            "3     David  22.0   90.0       85.00    Yes\n",
            "4       Eve  20.0   88.0       95.00     No\n",
            "5     Frank  22.0   76.0       70.00    Yes\n",
            "6     Grace  23.0   82.0       88.00     No\n",
            "7      Hank  21.0   80.0       85.25    Yes\n",
            "8       Ivy  24.0   92.0       92.00    Yes\n",
            "9      Jack  22.0   79.0       85.00     No\n",
            "10    Kelly  22.0   82.0       78.00    Yes\n",
            "11      Leo  23.0   87.0       85.25    Yes\n",
            "12     Mona  21.0   83.0       80.00     No\n",
            "13     Nina  22.0   77.0       89.00    Yes\n",
            "14    Oscar  25.0   82.0       91.00     No\n",
            "15     Paul  22.0   81.0       85.25    Yes\n"
          ]
        },
        {
          "output_type": "stream",
          "name": "stderr",
          "text": [
            "<ipython-input-5-d05a90828a80>:1: FutureWarning: A value is trying to be set on a copy of a DataFrame or Series through chained assignment using an inplace method.\n",
            "The behavior will change in pandas 3.0. This inplace method will never work because the intermediate object on which we are setting values always behaves as a copy.\n",
            "\n",
            "For example, when doing 'df[col].method(value, inplace=True)', try using 'df.method({col: value}, inplace=True)' or df[col] = df[col].method(value) instead, to perform the operation inplace on the original object.\n",
            "\n",
            "\n",
            "  df[\"Age\"].fillna(df[\"Age\"].mean(), inplace=True)\n",
            "<ipython-input-5-d05a90828a80>:2: FutureWarning: A value is trying to be set on a copy of a DataFrame or Series through chained assignment using an inplace method.\n",
            "The behavior will change in pandas 3.0. This inplace method will never work because the intermediate object on which we are setting values always behaves as a copy.\n",
            "\n",
            "For example, when doing 'df[col].method(value, inplace=True)', try using 'df.method({col: value}, inplace=True)' or df[col] = df[col].method(value) instead, to perform the operation inplace on the original object.\n",
            "\n",
            "\n",
            "  df[\"Marks\"].fillna(df[\"Marks\"].median(), inplace=True)\n",
            "<ipython-input-5-d05a90828a80>:3: FutureWarning: A value is trying to be set on a copy of a DataFrame or Series through chained assignment using an inplace method.\n",
            "The behavior will change in pandas 3.0. This inplace method will never work because the intermediate object on which we are setting values always behaves as a copy.\n",
            "\n",
            "For example, when doing 'df[col].method(value, inplace=True)', try using 'df.method({col: value}, inplace=True)' or df[col] = df[col].method(value) instead, to perform the operation inplace on the original object.\n",
            "\n",
            "\n",
            "  df[\"Attendance\"].fillna(df[\"Attendance\"].mean(),\n"
          ]
        }
      ]
    },
    {
      "cell_type": "code",
      "source": [
        "from sklearn.preprocessing import StandardScaler\n",
        "scaler = StandardScaler()\n",
        "df_scaled = df.copy()\n",
        "df_scaled[[\"Marks\", \"Attendance\"]] = scaler.fit_transform(df[[\"Marks\", \"Attendance\"]])\n",
        "print(df_scaled)"
      ],
      "metadata": {
        "colab": {
          "base_uri": "https://localhost:8080/"
        },
        "id": "R3eWK1fMtMgV",
        "outputId": "ea639445-8803-4188-c047-b69108ffb505"
      },
      "execution_count": null,
      "outputs": [
        {
          "output_type": "stream",
          "name": "stdout",
          "text": [
            "       Name   Age     Marks  Attendance Passed\n",
            "0     Alice  20.0  0.505490    0.804154    Yes\n",
            "1       Bob  21.0 -0.168497   -0.888802     No\n",
            "2   Charlie  22.0 -1.067146    0.000000    Yes\n",
            "3     David  22.0  1.628802   -0.042324    Yes\n",
            "4       Eve  20.0  1.179478    1.650632     No\n",
            "5     Frank  22.0 -1.516471   -2.581758    Yes\n",
            "6     Grace  23.0 -0.168497    0.465563     No\n",
            "7      Hank  21.0 -0.617822    0.000000    Yes\n",
            "8       Ivy  24.0  2.078127    1.142745    Yes\n",
            "9      Jack  22.0 -0.842484   -0.042324     No\n",
            "10    Kelly  22.0 -0.168497   -1.227393    Yes\n",
            "11      Leo  23.0  0.954815    0.000000    Yes\n",
            "12     Mona  21.0  0.056166   -0.888802     No\n",
            "13     Nina  22.0 -1.291809    0.634858    Yes\n",
            "14    Oscar  25.0 -0.168497    0.973450     No\n",
            "15     Paul  22.0 -0.393159    0.000000    Yes\n"
          ]
        }
      ]
    },
    {
      "cell_type": "code",
      "source": [
        "df_encoded = pd.get_dummies(df, columns=[\"Passed\"],\n",
        "drop_first=True)\n",
        "print(df_encoded)"
      ],
      "metadata": {
        "colab": {
          "base_uri": "https://localhost:8080/"
        },
        "id": "A5-D5f7XtTml",
        "outputId": "18c511e5-1a77-4c1a-ca0f-19d5119c31f1"
      },
      "execution_count": null,
      "outputs": [
        {
          "output_type": "stream",
          "name": "stdout",
          "text": [
            "       Name   Age  Marks  Attendance  Passed_Yes\n",
            "0     Alice  20.0   85.0       90.00        True\n",
            "1       Bob  21.0   82.0       80.00       False\n",
            "2   Charlie  22.0   78.0       85.25        True\n",
            "3     David  22.0   90.0       85.00        True\n",
            "4       Eve  20.0   88.0       95.00       False\n",
            "5     Frank  22.0   76.0       70.00        True\n",
            "6     Grace  23.0   82.0       88.00       False\n",
            "7      Hank  21.0   80.0       85.25        True\n",
            "8       Ivy  24.0   92.0       92.00        True\n",
            "9      Jack  22.0   79.0       85.00       False\n",
            "10    Kelly  22.0   82.0       78.00        True\n",
            "11      Leo  23.0   87.0       85.25        True\n",
            "12     Mona  21.0   83.0       80.00       False\n",
            "13     Nina  22.0   77.0       89.00        True\n",
            "14    Oscar  25.0   82.0       91.00       False\n",
            "15     Paul  22.0   81.0       85.25        True\n"
          ]
        }
      ]
    },
    {
      "cell_type": "code",
      "source": [
        "from sklearn.preprocessing import LabelEncoder\n",
        "encoder = LabelEncoder()\n",
        "df[\"Passed\"] = encoder.fit_transform(df[\"Passed\"])\n",
        "print(df)"
      ],
      "metadata": {
        "colab": {
          "base_uri": "https://localhost:8080/"
        },
        "id": "79gWwTROtW8t",
        "outputId": "fff0b765-78d4-4a21-f74c-696ac85a0500"
      },
      "execution_count": null,
      "outputs": [
        {
          "output_type": "stream",
          "name": "stdout",
          "text": [
            "       Name   Age  Marks  Attendance  Passed\n",
            "0     Alice  20.0   85.0       90.00       1\n",
            "1       Bob  21.0   82.0       80.00       0\n",
            "2   Charlie  22.0   78.0       85.25       1\n",
            "3     David  22.0   90.0       85.00       1\n",
            "4       Eve  20.0   88.0       95.00       0\n",
            "5     Frank  22.0   76.0       70.00       1\n",
            "6     Grace  23.0   82.0       88.00       0\n",
            "7      Hank  21.0   80.0       85.25       1\n",
            "8       Ivy  24.0   92.0       92.00       1\n",
            "9      Jack  22.0   79.0       85.00       0\n",
            "10    Kelly  22.0   82.0       78.00       1\n",
            "11      Leo  23.0   87.0       85.25       1\n",
            "12     Mona  21.0   83.0       80.00       0\n",
            "13     Nina  22.0   77.0       89.00       1\n",
            "14    Oscar  25.0   82.0       91.00       0\n",
            "15     Paul  22.0   81.0       85.25       1\n"
          ]
        }
      ]
    },
    {
      "cell_type": "code",
      "source": [
        "df[\"Age_Group\"] = pd.cut(df[\"Age\"], bins=[18, 21, 24],\n",
        "labels=[\"Young\", \"Adult\"])\n",
        "print(df)"
      ],
      "metadata": {
        "colab": {
          "base_uri": "https://localhost:8080/"
        },
        "id": "2jbal89ZtZuW",
        "outputId": "edf94ac3-677f-44d6-a944-e699e9a4205c"
      },
      "execution_count": null,
      "outputs": [
        {
          "output_type": "stream",
          "name": "stdout",
          "text": [
            "       Name   Age  Marks  Attendance  Passed Age_Group\n",
            "0     Alice  20.0   85.0       90.00       1     Young\n",
            "1       Bob  21.0   82.0       80.00       0     Young\n",
            "2   Charlie  22.0   78.0       85.25       1     Adult\n",
            "3     David  22.0   90.0       85.00       1     Adult\n",
            "4       Eve  20.0   88.0       95.00       0     Young\n",
            "5     Frank  22.0   76.0       70.00       1     Adult\n",
            "6     Grace  23.0   82.0       88.00       0     Adult\n",
            "7      Hank  21.0   80.0       85.25       1     Young\n",
            "8       Ivy  24.0   92.0       92.00       1     Adult\n",
            "9      Jack  22.0   79.0       85.00       0     Adult\n",
            "10    Kelly  22.0   82.0       78.00       1     Adult\n",
            "11      Leo  23.0   87.0       85.25       1     Adult\n",
            "12     Mona  21.0   83.0       80.00       0     Young\n",
            "13     Nina  22.0   77.0       89.00       1     Adult\n",
            "14    Oscar  25.0   82.0       91.00       0       NaN\n",
            "15     Paul  22.0   81.0       85.25       1     Adult\n"
          ]
        }
      ]
    },
    {
      "cell_type": "code",
      "source": [
        "def performance_category(marks):\n",
        "  if marks >= 85:\n",
        "    return \"High\"\n",
        "  elif marks >= 70:\n",
        "     return \"Medium\"\n",
        "  else:\n",
        "    return \"Low\"\n",
        "\n",
        "df[\"Performance\"] = df[\"Marks\"].apply(performance_category)\n",
        "print(df)"
      ],
      "metadata": {
        "colab": {
          "base_uri": "https://localhost:8080/"
        },
        "id": "XWdM-oZGtiM1",
        "outputId": "d85dcf75-3004-4aab-c908-877cf0e24472"
      },
      "execution_count": null,
      "outputs": [
        {
          "output_type": "stream",
          "name": "stdout",
          "text": [
            "       Name   Age  Marks  Attendance  Passed Age_Group Performance\n",
            "0     Alice  20.0   85.0       90.00       1     Young        High\n",
            "1       Bob  21.0   82.0       80.00       0     Young      Medium\n",
            "2   Charlie  22.0   78.0       85.25       1     Adult      Medium\n",
            "3     David  22.0   90.0       85.00       1     Adult        High\n",
            "4       Eve  20.0   88.0       95.00       0     Young        High\n",
            "5     Frank  22.0   76.0       70.00       1     Adult      Medium\n",
            "6     Grace  23.0   82.0       88.00       0     Adult      Medium\n",
            "7      Hank  21.0   80.0       85.25       1     Young      Medium\n",
            "8       Ivy  24.0   92.0       92.00       1     Adult        High\n",
            "9      Jack  22.0   79.0       85.00       0     Adult      Medium\n",
            "10    Kelly  22.0   82.0       78.00       1     Adult      Medium\n",
            "11      Leo  23.0   87.0       85.25       1     Adult        High\n",
            "12     Mona  21.0   83.0       80.00       0     Young      Medium\n",
            "13     Nina  22.0   77.0       89.00       1     Adult      Medium\n",
            "14    Oscar  25.0   82.0       91.00       0       NaN      Medium\n",
            "15     Paul  22.0   81.0       85.25       1     Adult      Medium\n"
          ]
        }
      ]
    }
  ]
}